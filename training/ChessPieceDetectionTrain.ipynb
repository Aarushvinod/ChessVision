{
  "cells": [
    {
      "cell_type": "code",
      "execution_count": null,
      "metadata": {
        "colab": {
          "base_uri": "https://localhost:8080/"
        },
        "collapsed": true,
        "id": "n4f4E2C4BOvR",
        "outputId": "cd27fafe-f485-4cf7-bcda-605b6ffc40c8"
      },
      "outputs": [],
      "source": [
        "#This is pretty basic stuff which is quite easy to comb through after you get a basic understanding of YOLO\n",
        "!pip install ultralytics\n",
        "!pip install requests\n",
        "!pip install zipfile36\n",
        "!pip install Python-IO\n",
        "!pip install opencv-python"
      ]
    },
    {
      "cell_type": "code",
      "execution_count": null,
      "metadata": {
        "colab": {
          "base_uri": "https://localhost:8080/"
        },
        "id": "WRoV2fezJmPv",
        "outputId": "95cb5800-151c-479c-ebaf-7938f226cfd5"
      },
      "outputs": [],
      "source": [
        "import zipfile\n",
        "import io\n",
        "import requests\n",
        "from ultralytics import YOLO\n",
        "import cv2"
      ]
    },
    {
      "cell_type": "code",
      "execution_count": null,
      "metadata": {
        "collapsed": true,
        "id": "Us2St5EKFKZ9"
      },
      "outputs": [],
      "source": [
        "#DOWNLOAD DATASET\n",
        "URL = \"https://universe.roboflow.com/ds/zVkjEvhV8w?key=jVMW6jdvKG\"\n",
        "ROOT_DIR = \"<Include where you want the dataset downloaded here>\"\n",
        "requester = requests.get(URL, stream=True)\n",
        "my_zipfile = zipfile.ZipFile(io.BytesIO(requester.content))\n",
        "my_zipfile.extractall(ROOT_DIR)"
      ]
    },
    {
      "cell_type": "code",
      "execution_count": null,
      "metadata": {
        "colab": {
          "base_uri": "https://localhost:8080/",
          "height": 339
        },
        "collapsed": true,
        "id": "0HwThGy7CkWX",
        "outputId": "cf7cd962-755e-472c-f323-5f8dcab2afb5"
      },
      "outputs": [],
      "source": [
        "#TRAIN MODEL\n",
        "TRAIN_MODEL_PATH = \"<Include Path or preferred YOLO Model Here>\"\n",
        "model = YOLO(TRAIN_MODEL_PATH)\n",
        "model.to('cuda')\n",
        "YAML_DIR = \"<Include Path to YOLO YAML file here>\"\n",
        "model.train(data='YAML_DIR', epochs=300)"
      ]
    },
    {
      "cell_type": "code",
      "execution_count": null,
      "metadata": {
        "colab": {
          "base_uri": "https://localhost:8080/"
        },
        "id": "8k_37Gp39YPh",
        "outputId": "6227d1dc-4a6d-4440-ae46-77e5e289b462"
      },
      "outputs": [],
      "source": [
        "#TEST MODEL\n",
        "MODEL_PATH = \"<Include path to trained model here>\"\n",
        "model = YOLO(MODEL_PATH)\n",
        "TEST_PATH = \"<Include path to test image here>\"\n",
        "img = cv2.imread(TEST_PATH)\n",
        "results = model.predict(img, save=True, show_boxes = False, conf=0.5)"
      ]
    }
  ],
  "metadata": {
    "accelerator": "GPU",
    "colab": {
      "gpuType": "T4",
      "machine_shape": "hm",
      "provenance": []
    },
    "kernelspec": {
      "display_name": "Python 3",
      "name": "python3"
    },
    "language_info": {
      "name": "python"
    }
  },
  "nbformat": 4,
  "nbformat_minor": 0
}
